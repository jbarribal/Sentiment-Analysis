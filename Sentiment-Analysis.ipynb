{
  "nbformat": 4,
  "nbformat_minor": 0,
  "metadata": {
    "colab": {
      "name": "BARRIBAL_MONTES.ipynb",
      "provenance": [],
      "include_colab_link": true
    },
    "kernelspec": {
      "name": "python3",
      "display_name": "Python 3"
    },
    "language_info": {
      "name": "python"
    }
  },
  "cells": [
    {
      "cell_type": "markdown",
      "metadata": {
        "id": "view-in-github",
        "colab_type": "text"
      },
      "source": [
        "<a href=\"https://colab.research.google.com/github/jbarribal/Sentiment-Analysis/blob/main/BARRIBAL_MONTES.ipynb\" target=\"_parent\"><img src=\"https://colab.research.google.com/assets/colab-badge.svg\" alt=\"Open In Colab\"/></a>"
      ]
    },
    {
      "cell_type": "code",
      "execution_count": null,
      "metadata": {
        "id": "oGevCTR6uXXb"
      },
      "outputs": [],
      "source": [
        "#Importing Essentials\n",
        "import pandas as pd\n",
        "from sklearn import metrics\n",
        "from sklearn.model_selection import train_test_split\n",
        "from sklearn.feature_extraction.text import CountVectorizer\n",
        "from sklearn.svm import LinearSVC\n",
        "from sklearn.naive_bayes import MultinomialNB\n",
        "from sklearn.linear_model import LogisticRegression\n",
        "from sklearn.neighbors import KNeighborsClassifier"
      ]
    },
    {
      "cell_type": "code",
      "source": [
        "path = 'responses.csv'\n",
        "data = pd.read_csv(path,header=None,skiprows=1,names=['Sentiment','Review'])\n",
        "X = data.Review\n",
        "y = data.Sentiment\n",
        "#Using CountVectorizer to convert text into tokens/features\n",
        "vect = CountVectorizer(stop_words='english', ngram_range = (1,1), max_df = .80, min_df = 4)\n",
        "X_train, X_test, y_train, y_test = train_test_split(X,y,random_state=1, test_size= 0.2)\n",
        "#Using training data to transform text into counts of features for each message\n",
        "vect.fit(X_train)\n",
        "X_train_dtm = vect.transform(X_train) \n",
        "X_test_dtm = vect.transform(X_test)"
      ],
      "metadata": {
        "id": "1DL0yVcbGToF"
      },
      "execution_count": null,
      "outputs": []
    },
    {
      "cell_type": "code",
      "source": [
        "#Accuracy using Naive Bayes Model\n",
        "NB = MultinomialNB()\n",
        "NB.fit(X_train_dtm, y_train)\n",
        "y_pred = NB.predict(X_test_dtm)\n",
        "print('\\nNaive Bayes')\n",
        "print('Accuracy Score: ',metrics.accuracy_score(y_test,y_pred)*100,'%',sep='')\n",
        "print('Confusion Matrix: ',metrics.confusion_matrix(y_test,y_pred), sep = '\\n')"
      ],
      "metadata": {
        "colab": {
          "base_uri": "https://localhost:8080/"
        },
        "id": "0vq7OPjEGe23",
        "outputId": "bb2f9410-4465-4230-abf6-ce9ab523f43e"
      },
      "execution_count": null,
      "outputs": [
        {
          "output_type": "stream",
          "name": "stdout",
          "text": [
            "\n",
            "Naive Bayes\n",
            "Accuracy Score: 50.0%\n",
            "Confusion Matrix: \n",
            "[[0 5]\n",
            " [0 5]]\n"
          ]
        }
      ]
    },
    {
      "cell_type": "code",
      "source": [
        "#Accuracy using Logistic Regression Model\n",
        "LR = LogisticRegression()\n",
        "LR.fit(X_train_dtm, y_train)\n",
        "y_pred = LR.predict(X_test_dtm)\n",
        "print('\\nLogistic Regression')\n",
        "print('Accuracy Score: ',metrics.accuracy_score(y_test,y_pred)*100,'%',sep='')\n",
        "print('Confusion Matrix: ',metrics.confusion_matrix(y_test,y_pred), sep = '\\n')"
      ],
      "metadata": {
        "colab": {
          "base_uri": "https://localhost:8080/"
        },
        "id": "FkGiAcBDGlvA",
        "outputId": "b061fdff-1c59-4671-d287-803998a31da7"
      },
      "execution_count": null,
      "outputs": [
        {
          "output_type": "stream",
          "name": "stdout",
          "text": [
            "\n",
            "Logistic Regression\n",
            "Accuracy Score: 100.0%\n",
            "Confusion Matrix: \n",
            "[[5 0]\n",
            " [0 5]]\n"
          ]
        }
      ]
    },
    {
      "cell_type": "code",
      "source": [
        "#Accuracy using SVM Model\n",
        "SVM = LinearSVC()\n",
        "SVM.fit(X_train_dtm, y_train)\n",
        "y_pred = SVM.predict(X_test_dtm)\n",
        "print('\\nSupport Vector Machine')\n",
        "print('Accuracy Score: ',metrics.accuracy_score(y_test,y_pred)*100,'%',sep='')\n",
        "print('Confusion Matrix: ',metrics.confusion_matrix(y_test,y_pred), sep = '\\n')"
      ],
      "metadata": {
        "colab": {
          "base_uri": "https://localhost:8080/"
        },
        "id": "CfdVFE9TGoR5",
        "outputId": "37405d38-f4c1-4151-886c-b3afe6b8f8b0"
      },
      "execution_count": null,
      "outputs": [
        {
          "output_type": "stream",
          "name": "stdout",
          "text": [
            "\n",
            "Support Vector Machine\n",
            "Accuracy Score: 90.0%\n",
            "Confusion Matrix: \n",
            "[[5 0]\n",
            " [1 4]]\n"
          ]
        }
      ]
    },
    {
      "cell_type": "code",
      "source": [
        "#Accuracy using KNN Model\n",
        "KNN = KNeighborsClassifier(n_neighbors = 3)\n",
        "KNN.fit(X_train_dtm, y_train)\n",
        "y_pred = KNN.predict(X_test_dtm)\n",
        "print('\\nK Nearest Neighbors (NN = 3)')\n",
        "print('Accuracy Score: ',metrics.accuracy_score(y_test,y_pred)*100,'%',sep='')\n",
        "print('Confusion Matrix: ',metrics.confusion_matrix(y_test,y_pred), sep = '\\n')"
      ],
      "metadata": {
        "colab": {
          "base_uri": "https://localhost:8080/"
        },
        "id": "YcOXkcP7Gq54",
        "outputId": "a5d8a67e-852a-4196-89b1-8dc88f0e5da4"
      },
      "execution_count": null,
      "outputs": [
        {
          "output_type": "stream",
          "name": "stdout",
          "text": [
            "\n",
            "K Nearest Neighbors (NN = 3)\n",
            "Accuracy Score: 90.0%\n",
            "Confusion Matrix: \n",
            "[[5 0]\n",
            " [1 4]]\n"
          ]
        }
      ]
    },
    {
      "cell_type": "code",
      "source": [
        "#Naive Bayes Analysis\n",
        "tokens_words = vect.get_feature_names()\n",
        "print('\\nAnalysis')\n",
        "print('No. of tokens: ',len(tokens_words))\n",
        "counts = NB.feature_count_\n",
        "df_table = {'Token':tokens_words,'Negative': counts[0,:],'Positive': counts[1,:]}\n",
        "tokens = pd.DataFrame(df_table, columns= ['Token','Positive','Negative'])\n",
        "positives = len(tokens[tokens['Positive']>tokens['Negative']])\n",
        "print('No. of positive tokens: ',positives)\n",
        "print('No. of negative tokens: ',len(tokens_words)-positives)\n",
        "#Check positivity/negativity of specific tokens\n",
        "token_search = ['awesome']\n",
        "print('\\nSearch Results for token/s:',token_search)\n",
        "print(tokens.loc[tokens['Token'].isin(token_search)])\n",
        "#Analyse False Negatives (Actual: 1; Predicted: 0)(Predicted negative review for a positive review) \n",
        "print(X_test[ y_pred < y_test ])\n",
        "#Analyse False Positives (Actual: 0; Predicted: 1)(Predicted positive review for a negative review) \n",
        "print(X_test[ y_pred > y_test ])"
      ],
      "metadata": {
        "colab": {
          "base_uri": "https://localhost:8080/"
        },
        "id": "5vQntWOMGttf",
        "outputId": "6730a6a5-eb38-405e-d9ec-7b8d31213774"
      },
      "execution_count": null,
      "outputs": [
        {
          "output_type": "stream",
          "name": "stdout",
          "text": [
            "\n",
            "Analysis\n",
            "No. of tokens:  13\n",
            "No. of positive tokens:  13\n",
            "No. of negative tokens:  0\n",
            "\n",
            "Search Results for token/s: ['awesome']\n",
            "Empty DataFrame\n",
            "Columns: [Token, Positive, Negative]\n",
            "Index: []\n",
            "42    Despite the progress, the Philippines' interne...\n",
            "Name: Review, dtype: object\n",
            "Series([], Name: Review, dtype: object)\n"
          ]
        },
        {
          "output_type": "stream",
          "name": "stderr",
          "text": [
            "/usr/local/lib/python3.7/dist-packages/sklearn/utils/deprecation.py:87: FutureWarning: Function get_feature_names is deprecated; get_feature_names is deprecated in 1.0 and will be removed in 1.2. Please use get_feature_names_out instead.\n",
            "  warnings.warn(msg, category=FutureWarning)\n"
          ]
        }
      ]
    },
    {
      "cell_type": "code",
      "source": [
        "#Custom Test: Test a review on the best performing model (Logistic Regression)\n",
        "trainingVector = CountVectorizer(stop_words='english', ngram_range = (1,1), max_df = .80, min_df = 5)\n",
        "trainingVector.fit(X)\n",
        "X_dtm = trainingVector.transform(X)\n",
        "LR_complete = LogisticRegression()\n",
        "LR_complete.fit(X_dtm, y)\n",
        "#Input Review\n",
        "print('\\nTest a custom review message')\n",
        "print('Enter review to be analysed: ', end=\" \")\n",
        "test = []\n",
        "test.append(input())\n",
        "test_dtm = trainingVector.transform(test)\n",
        "predLabel = LR_complete.predict(test_dtm)\n",
        "tags = ['Negative','Positive']\n",
        "#Display Output\n",
        "print('The review is predicted',tags[predLabel[0]])"
      ],
      "metadata": {
        "colab": {
          "base_uri": "https://localhost:8080/"
        },
        "id": "TFp0GYfCGzRf",
        "outputId": "b4a1b0cf-44aa-4b9c-de13-b29663906622"
      },
      "execution_count": null,
      "outputs": [
        {
          "output_type": "stream",
          "name": "stdout",
          "text": [
            "\n",
            "Test a custom review message\n",
            "Enter review to be analysed:  No, it's unreliable\n",
            "The review is predicted Negative\n"
          ]
        }
      ]
    },
    {
      "cell_type": "code",
      "source": [
        ""
      ],
      "metadata": {
        "id": "SDMtpvpRG762"
      },
      "execution_count": null,
      "outputs": []
    }
  ]
}